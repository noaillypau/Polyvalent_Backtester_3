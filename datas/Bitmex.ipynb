{
 "cells": [
  {
   "cell_type": "markdown",
   "metadata": {},
   "source": [
    "# raw quote"
   ]
  },
  {
   "cell_type": "code",
   "execution_count": 34,
   "metadata": {},
   "outputs": [],
   "source": [
    "from datetime import datetime as dt\n",
    "def download_raw_quotes(year, month, show_process=False):\n",
    "#---Importing packagesfrom datetime import datetime as dt\n",
    "    from datetime import timedelta\n",
    "    import gzip\n",
    "    import glob\n",
    "    import os\n",
    "    import shutil\n",
    "    import sys\n",
    "    import time\n",
    "    import requests\n",
    "    import pandas as pd\n",
    "    import numpy as np\n",
    "    from math import log,sqrt\n",
    "    import gc\n",
    "    \n",
    "    if 'tmp_bitmex' not in os.listdir():\n",
    "        os.mkdir('tmp_bitmex')\n",
    "    \n",
    "    def get_next_month_dt(date):\n",
    "        month = date.month\n",
    "        year = date.year\n",
    "        next_month = month % 12 + 1\n",
    "        next_year = year + month // 12\n",
    "        return dt(next_year, next_month, date.day)\n",
    "    \n",
    "\n",
    "#---Importing raw data of trade and quote\n",
    "    # https://public.bitmex.com/?prefix=data/trade/\n",
    "    endpoint = 'https://s3-eu-west-1.amazonaws.com/public.bitmex.com/data/{}/{}.csv.gz'\n",
    "    def scrape(date,trqu):\n",
    "        end_date = get_next_month_dt(date)\n",
    "        while date < end_date:\n",
    "            date_str = date.strftime('%Y%m%d')\n",
    "            if show_process:\n",
    "                print(\"Processing {} order {}...\".format(trqu,date))\n",
    "            count = 0\n",
    "            while True:\n",
    "                r = requests.get(endpoint.format(trqu,date_str))\n",
    "                if r.status_code == 200:\n",
    "                    break\n",
    "                else:\n",
    "                    count += 1\n",
    "                    if count == 10:\n",
    "                        r.raise_for_status()\n",
    "                    print(\"Error processing {} - {}, trying again\".format(date, r.status_code))\n",
    "                    time.sleep(10)\n",
    "            with open(date_str, 'wb') as fp:\n",
    "                fp.write(r.content)\n",
    "            with gzip.open(date_str, 'rb') as fp:\n",
    "                data = fp.read()\n",
    "            with open(date_str, 'wb') as fp:\n",
    "                fp.write(data)\n",
    "            date += timedelta(days=1)\n",
    "    def merge(date,trqu):\n",
    "        print(\"{} - Generating CSV for {} order {} {}\".format(dt.now(),trqu,date.month,date.year))\n",
    "        files = sorted(glob.glob(\"{}*\".format(date.strftime('%Y%m'))))\n",
    "        with open(\"D://Trading/Data/Crypto/Bitmex/raw_quotes/{}-{}.csv\".format(date.month,date.year), 'wb') as out:\n",
    "            first = True\n",
    "            for f in files:\n",
    "                with open(f, 'rb') as fp:\n",
    "                    if first:\n",
    "                        fp.readline()\n",
    "                        first = False\n",
    "                    shutil.copyfileobj(fp, out)\n",
    "        for f in files:\n",
    "            os.unlink(f)\n",
    "    if __name__ == '__main__':     \n",
    "        start = dt(year, month, 1)\n",
    "        trqu = 'quote'\n",
    "        scrape(start,trqu)\n",
    "        merge(start,trqu)\n",
    "        \n",
    "def extract_quote_symbol(symbol, year, month):\n",
    "    list_symbols = ['ADAM19', 'BCHM19', 'EOSM19', 'ETHM19', 'ETHUSD', 'LTCM19',\n",
    "                    'TRXM19', 'XBT7D_D95', 'XBT7D_U105', 'XBTM19', 'XBTU19', 'XBTUSD',\n",
    "                    'XRPM19']\n",
    "    from datetime import timedelta\n",
    "    import gzip\n",
    "    import glob\n",
    "    import os\n",
    "    import shutil\n",
    "    import sys\n",
    "    import time\n",
    "    import requests\n",
    "    import pandas as pd\n",
    "    import numpy as np\n",
    "    from math import log,sqrt\n",
    "    import gc\n",
    "    start = dt(year, month, 1)\n",
    "    \n",
    "    from datetime import date, datetime, time, timedelta\n",
    "    chunksize=1000000\n",
    "#---Chunk Building the midprice data base\n",
    "    chunksize=1000000\n",
    "    df_chunk=pd.read_csv('D://Trading/Data/Crypto/Bitmex/raw_quotes/{}-{}.csv'.format(start.month,start.year),\n",
    "                         names=['Time','Currency','BestBidSize','BestBidPrice','BestAskPrice','BestAskSize'],chunksize=chunksize)\n",
    "    chunk_list=[]\n",
    "    for chunk in df_chunk:\n",
    "        chunk_filter=chunk[chunk['BestAskPrice']!='askPrice']\n",
    "        chunk_filter=chunk_filter[chunk_filter['Currency']==symbol]\n",
    "        chunk_filter['BestBidPrice']=chunk_filter['BestBidPrice'].astype(float)\n",
    "        chunk_filter['BestBidSize']=chunk_filter['BestBidSize'].astype(float)\n",
    "        chunk_filter['BestAskPrice']=chunk_filter['BestAskPrice'].astype(float)\n",
    "        chunk_filter['BestAskSize']=chunk_filter['BestAskSize'].astype(float)\n",
    "        chunk_filter['MidPrice']=(chunk_filter['BestBidPrice']+chunk_filter['BestAskPrice'])/2\n",
    "        chunk_filter['Time'] = chunk_filter['Time'].str.replace('D',' ')\n",
    "        chunk_filter['Time']=pd.to_datetime(chunk_filter['Time'])\n",
    "        chunk_filter=chunk_filter.drop(['Currency'],axis=1)\n",
    "        chunk_filter=chunk_filter.loc[chunk_filter['MidPrice'].shift(1)!=chunk_filter['MidPrice']]\n",
    "        chunk_filter=chunk_filter.reset_index().drop('index',axis=1)\n",
    "        chunk_list.append(chunk_filter)\n",
    "    df_concat=pd.concat(chunk_list)\n",
    "    \n",
    "    path_folder = f'D://Trading/Data/Crypto/Bitmex/quotes/{symbol}/'\n",
    "    try:\n",
    "        os.makedirs(path_folder)\n",
    "    except:\n",
    "        pass\n",
    "    filename = '{}.pkl'.format(date.strftime('%Y-%m'))\n",
    "    df_concat.to_pickle(path_folder_folder+filename, )\n",
    "    del df_chunk\n",
    "    del chunk_list\n",
    "    del chunk_filter\n",
    "    del df_concat\n",
    "    gc.collect()\n",
    "    \n",
    "    "
   ]
  },
  {
   "cell_type": "markdown",
   "metadata": {},
   "source": [
    "## raw"
   ]
  },
  {
   "cell_type": "code",
   "execution_count": null,
   "metadata": {},
   "outputs": [
    {
     "name": "stdout",
     "output_type": "stream",
     "text": [
      "Processing quote order 2021-01-01 00:00:00...\n",
      "Processing quote order 2021-01-02 00:00:00...\n",
      "Processing quote order 2021-01-03 00:00:00...\n",
      "Processing quote order 2021-01-04 00:00:00...\n",
      "Processing quote order 2021-01-05 00:00:00...\n",
      "Processing quote order 2021-01-06 00:00:00...\n",
      "Processing quote order 2021-01-07 00:00:00...\n",
      "Processing quote order 2021-01-08 00:00:00...\n",
      "Processing quote order 2021-01-09 00:00:00...\n",
      "Processing quote order 2021-01-10 00:00:00...\n",
      "Processing quote order 2021-01-11 00:00:00...\n",
      "Processing quote order 2021-01-12 00:00:00...\n",
      "Processing quote order 2021-01-13 00:00:00...\n",
      "Processing quote order 2021-01-14 00:00:00...\n",
      "Processing quote order 2021-01-15 00:00:00...\n",
      "Processing quote order 2021-01-16 00:00:00...\n",
      "Processing quote order 2021-01-17 00:00:00...\n",
      "Processing quote order 2021-01-18 00:00:00...\n",
      "Processing quote order 2021-01-19 00:00:00...\n",
      "Processing quote order 2021-01-20 00:00:00...\n",
      "Processing quote order 2021-01-21 00:00:00...\n",
      "Processing quote order 2021-01-22 00:00:00...\n",
      "Processing quote order 2021-01-23 00:00:00...\n",
      "Processing quote order 2021-01-24 00:00:00...\n",
      "Processing quote order 2021-01-25 00:00:00...\n",
      "Processing quote order 2021-01-26 00:00:00...\n",
      "Processing quote order 2021-01-27 00:00:00...\n"
     ]
    }
   ],
   "source": [
    "import warnings\n",
    "warnings.filterwarnings('ignore')\n",
    "download_raw_quotes(2021, 1)"
   ]
  },
  {
   "cell_type": "markdown",
   "metadata": {},
   "source": [
    "## loop raw"
   ]
  },
  {
   "cell_type": "code",
   "execution_count": null,
   "metadata": {},
   "outputs": [],
   "source": [
    "import warnings\n",
    "warnings.filterwarnings('ignore')\n",
    "for year in [2019,2020,2021]:\n",
    "    for month in [1,2,3,4,5,6,7,8,9,10,11,12]:\n",
    "        try:\n",
    "            print(f'{dt.now()} - dl {year} {month}')\n",
    "            download_raw_quotes(year, month, show_process=False)\n",
    "        except:\n",
    "            print(f'error dl {year} {month}')"
   ]
  },
  {
   "cell_type": "markdown",
   "metadata": {},
   "source": [
    "## extract symbol"
   ]
  },
  {
   "cell_type": "code",
   "execution_count": 23,
   "metadata": {},
   "outputs": [
    {
     "data": {
      "text/plain": [
       "array(['ADAM19', 'BCHM19', 'EOSM19', 'ETHM19', 'ETHUSD', 'LTCM19',\n",
       "       'TRXM19', 'XBT7D_D95', 'XBT7D_U105', 'XBTM19', 'XBTU19', 'XBTUSD',\n",
       "       'XRPM19', 'symbol'], dtype=object)"
      ]
     },
     "execution_count": 23,
     "metadata": {},
     "output_type": "execute_result"
    }
   ],
   "source": [
    "import warnings\n",
    "warnings.filterwarnings('ignore')\n",
    "extract_quote_symbol('XBTUSD',2021, 1)"
   ]
  },
  {
   "cell_type": "markdown",
   "metadata": {},
   "source": [
    "## loop symbol"
   ]
  },
  {
   "cell_type": "code",
   "execution_count": null,
   "metadata": {},
   "outputs": [],
   "source": [
    "import warnings\n",
    "warnings.filterwarnings('ignore')\n",
    "list_symbols = ['ADAM19', 'BCHM19', 'EOSM19', 'ETHM19', 'ETHUSD', 'LTCM19', 'TRXM19', 'XBT7D_D95', 'XBT7D_U105', 'XBTM19', 'XBTU19', 'XBTUSD', 'XRPM19']\n",
    "symbol = 'XBTUSD'\n",
    "for year in [2019,2020,2021]:\n",
    "    for month in [1,2,3,4,5,6,7,8,9,10,11,12]:\n",
    "        try:\n",
    "            print(f'{dt.now()} - dl {year} {month}')\n",
    "            extract_quote_symbol(symbol,2021, 1)\n",
    "        except:\n",
    "            print(f'error dl {year} {month}')"
   ]
  },
  {
   "cell_type": "markdown",
   "metadata": {},
   "source": [
    "# raw trades"
   ]
  },
  {
   "cell_type": "code",
   "execution_count": null,
   "metadata": {},
   "outputs": [],
   "source": [
    "from datetime import datetime as dt\n",
    "def download_raw_trades(year, month):\n",
    "#---Importing packagesfrom datetime import datetime as dt\n",
    "    from datetime import timedelta\n",
    "    import gzip\n",
    "    import glob\n",
    "    import os\n",
    "    import shutil\n",
    "    import sys\n",
    "    import time\n",
    "    import requests\n",
    "    import pandas as pd\n",
    "    import numpy as np\n",
    "    from math import log,sqrt\n",
    "    import gc\n",
    "    \n",
    "    if 'tmp_bitmex' not in os.listdir():\n",
    "        os.mkdir('tmp_bitmex')\n",
    "    \n",
    "    def get_next_month_dt(date):\n",
    "        month = date.month\n",
    "        year = date.year\n",
    "        next_month = month % 12 + 1\n",
    "        next_year = year + month // 12\n",
    "        return dt(next_year, next_month, date.day)\n",
    "    \n",
    "\n",
    "#---Importing raw data of trade and quote\n",
    "    # https://public.bitmex.com/?prefix=data/trade/\n",
    "    endpoint = 'https://s3-eu-west-1.amazonaws.com/public.bitmex.com/data/{}/{}.csv.gz'\n",
    "    def scrape(date,trqu):\n",
    "        end_date = get_next_month_dt(date)\n",
    "        while date < end_date:\n",
    "            date_str = date.strftime('%Y%m%d')\n",
    "            print(\"Processing {} order {}...\".format(trqu,date))\n",
    "            count = 0\n",
    "            while True:\n",
    "                r = requests.get(endpoint.format(trqu,date_str))\n",
    "                if r.status_code == 200:\n",
    "                    break\n",
    "                else:\n",
    "                    count += 1\n",
    "                    if count == 10:\n",
    "                        r.raise_for_status()\n",
    "                    print(\"Error processing {} - {}, trying again\".format(date, r.status_code))\n",
    "                    time.sleep(10)\n",
    "            with open(date_str, 'wb') as fp:\n",
    "                fp.write(r.content)\n",
    "            with gzip.open(date_str, 'rb') as fp:\n",
    "                data = fp.read()\n",
    "            with open(date_str, 'wb') as fp:\n",
    "                fp.write(data)\n",
    "            date += timedelta(days=1)\n",
    "    def merge(date,trqu):\n",
    "        print(\"{} - Generating CSV for {} order {} {}\".format(dt.now(),trqu,date.month,date.year))\n",
    "        files = sorted(glob.glob(\"{}*\".format(date.strftime('%Y%m'))))\n",
    "        with open(\"D://Trading/Data/Crypto/Bitmex/raw_trades/{}-{}.csv\".format(date.month,date.year), 'wb') as out:\n",
    "            first = True\n",
    "            for f in files:\n",
    "                with open(f, 'rb') as fp:\n",
    "                    if first:\n",
    "                        fp.readline()\n",
    "                        first = False\n",
    "                    shutil.copyfileobj(fp, out)\n",
    "        for f in files:\n",
    "            os.unlink(f)\n",
    "    if __name__ == '__main__':     \n",
    "        start = dt(year, month, 1)\n",
    "        trqu = 'trade'\n",
    "        scrape(start,trqu)\n",
    "        merge(start,trqu)\n",
    "        \n",
    "def extract_trades_symbol(symbol, year, month):\n",
    "    list_symbols = ['ADAM19', 'BCHM19', 'EOSM19', 'ETHM19', 'ETHUSD', 'LTCM19',\n",
    "                    'TRXM19', 'XBT7D_D95', 'XBT7D_U105', 'XBTM19', 'XBTU19', 'XBTUSD',\n",
    "                    'XRPM19']\n",
    "    from datetime import timedelta\n",
    "    import gzip\n",
    "    import glob\n",
    "    import os\n",
    "    import shutil\n",
    "    import sys\n",
    "    import time\n",
    "    import requests\n",
    "    import pandas as pd\n",
    "    import numpy as np\n",
    "    from math import log,sqrt\n",
    "    import gc\n",
    "    start = dt(year, month, 1)\n",
    "    \n",
    "    from datetime import date, datetime, time, timedelta\n",
    "    chunksize=1000000\n",
    "    #---Chunk Building trade tick data base\n",
    "    df_chunk=pd.read_csv('D://Trading/Data/Crypto/Bitmex/raw_trades/{}-{}.csv'.format(start.month,start.year),\n",
    "                         names=[\"Time\",\"Currency\",\"Taker Side\",\"Size\",\"Price\",\"TickDirection\",\"TradingID\",\"GrossValue\",\"HomeNotional\",\"ForeignNotional\"],chunksize=chunksize)\n",
    "    chunk_list=[]\n",
    "    for chunk in df_chunk:\n",
    "        chunk_filter=chunk[chunk['ForeignNotional']!='foreignNotional']\n",
    "        chunk_filter=chunk_filter[chunk_filter['Currency']==symbol]\n",
    "        chunk_filter=chunk_filter.drop(['Currency','TickDirection','TradingID','GrossValue','HomeNotional','ForeignNotional'],axis=1)\n",
    "        chunk_filter['Size']=chunk_filter['Size'].astype(float)\n",
    "        chunk_filter['Price']=chunk_filter['Price'].astype(float)\n",
    "        chunk_filter['Time'] = chunk_filter['Time'].str.replace('D',' ')\n",
    "        chunk_filter['Time']=pd.to_datetime(chunk_filter['Time'])\n",
    "        chunk_filter=chunk_filter.groupby(['Time','Price','Taker Side']).agg({'Size':'sum'})\n",
    "        chunk_filter=chunk_filter.reset_index()\n",
    "        chunk_filter=chunk_filter[['Time','Price','Size','Taker Side']]\n",
    "        chunk_filter=chunk_filter.replace('Sell','SELL')\n",
    "        chunk_filter=chunk_filter.replace('Buy','BUY')\n",
    "        chunk_list.append(chunk_filter)\n",
    "    df_concat2=pd.concat(chunk_list)\n",
    "    \n",
    "    path_folder = f'D://Trading/Data/Crypto/Bitmex/trades/{symbol}/'\n",
    "    try:\n",
    "        os.makedirs(path_folder)\n",
    "    except:\n",
    "        pass\n",
    "    filename = '{}.pkl'.format(date.strftime('%Y-%m'))\n",
    "    df_concat2.to_pickle(path_folder_folder+filename, )    \n",
    "\n",
    "    del df_concat2\n",
    "    del chunk_list\n",
    "    del chunk_filter\n",
    "    del df_chunk\n",
    "    gc.collect()"
   ]
  },
  {
   "cell_type": "markdown",
   "metadata": {},
   "source": [
    "## raw trade"
   ]
  },
  {
   "cell_type": "code",
   "execution_count": null,
   "metadata": {},
   "outputs": [],
   "source": [
    "import warnings\n",
    "warnings.filterwarnings('ignore')\n",
    "download_raw_trades(2021, 1)"
   ]
  },
  {
   "cell_type": "markdown",
   "metadata": {},
   "source": [
    "## loop raw trade"
   ]
  },
  {
   "cell_type": "code",
   "execution_count": null,
   "metadata": {},
   "outputs": [],
   "source": [
    "import warnings\n",
    "warnings.filterwarnings('ignore')\n",
    "for year in [2019,2020,2021]:\n",
    "    for month in [1,2,3,4,5,6,7,8,9,10,11,12]:\n",
    "        try:\n",
    "            print(f'{dt.now()} - dl {year} {month}')\n",
    "            download_raw_trades(year, month, show_process=False)\n",
    "        except:\n",
    "            print(f'error dl {year} {month}')"
   ]
  },
  {
   "cell_type": "markdown",
   "metadata": {},
   "source": [
    "# exract symbol trade"
   ]
  },
  {
   "cell_type": "code",
   "execution_count": null,
   "metadata": {},
   "outputs": [],
   "source": [
    "import warnings\n",
    "warnings.filterwarnings('ignore')\n",
    "extract_trades_symbol('XBTUSD',2021, 1)"
   ]
  },
  {
   "cell_type": "markdown",
   "metadata": {},
   "source": [
    "## loop extract symbol trade"
   ]
  },
  {
   "cell_type": "code",
   "execution_count": null,
   "metadata": {},
   "outputs": [],
   "source": [
    "import warnings\n",
    "warnings.filterwarnings('ignore')\n",
    "list_symbols = ['ADAM19', 'BCHM19', 'EOSM19', 'ETHM19', 'ETHUSD', 'LTCM19', 'TRXM19', 'XBT7D_D95', 'XBT7D_U105', 'XBTM19', 'XBTU19', 'XBTUSD', 'XRPM19']\n",
    "symbol = 'XBTUSD'\n",
    "for year in [2019,2020,2021]:\n",
    "    for month in [1,2,3,4,5,6,7,8,9,10,11,12]:\n",
    "        try:\n",
    "            print(f'{dt.now()} - dl {year} {month}')\n",
    "            extract_trades_symbol(symbol,2021, 1)\n",
    "        except:\n",
    "            print(f'error dl {year} {month}')"
   ]
  }
 ],
 "metadata": {
  "kernelspec": {
   "display_name": "Python 3",
   "language": "python",
   "name": "python3"
  },
  "language_info": {
   "codemirror_mode": {
    "name": "ipython",
    "version": 3
   },
   "file_extension": ".py",
   "mimetype": "text/x-python",
   "name": "python",
   "nbconvert_exporter": "python",
   "pygments_lexer": "ipython3",
   "version": "3.8.8"
  }
 },
 "nbformat": 4,
 "nbformat_minor": 4
}
